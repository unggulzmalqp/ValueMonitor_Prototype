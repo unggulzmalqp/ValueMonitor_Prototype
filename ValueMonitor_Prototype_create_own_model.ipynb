{
 "cells": [
  {
   "cell_type": "markdown",
   "metadata": {},
   "source": [
    "# ValueMonitor - Create your own topic model"
   ]
  },
  {
   "cell_type": "markdown",
   "metadata": {},
   "source": [
    "This page is a visualisation of the ValueMonitor prototype. In case you would like to use the notebook, click on the icon ‘**Run in Google Colab**’ hereunder:"
   ]
  },
  {
   "cell_type": "markdown",
   "metadata": {},
   "source": [
    "<table class=\"tfo-notebook-buttons\" align=\"left\">\n",
    "  <td>\n",
    "    <a target=\"_blank\" href=\"https://colab.research.google.com/github/tristandewildt/ValueMonitor_Prototype/blob/main/ValueMonitor_Prototype_create_own_model.ipynb\"><img src=\"https://www.tensorflow.org/images/colab_logo_32px.png\" />Run in Google Colab</a>\n",
    "  </td>\n",
    "  <td>\n",
    "    <a target=\"_blank\" href=\"https://github.com/tristandewildt/ValueMonitor_Prototype/blob/main/ValueMonitor_Prototype_create_own_model.ipynb\"><img src=\"https://www.tensorflow.org/images/GitHub-Mark-32px.png\" />View source on GitHub</a>\n",
    "  </td>\n",
    "</table>"
   ]
  },
  {
   "cell_type": "markdown",
   "metadata": {},
   "source": [
    "## Table of content:\n",
    "* [1. Import dataset and packages](#import_dataset_and_packages)\n",
    "* [2. Creating the topic model](#creating_the_topic_model)\n",
    "* [3. Verifying the topic model](#verifying_the_topic_model)\n",
    "* [4. Gap assessment](#gap_assessment)\n",
    "* [5. Impact assessment](#impact_assessment)\n",
    "* [6. Values in different societal_groups](#values_in_different_societal_groups)"
   ]
  },
  {
   "cell_type": "markdown",
   "metadata": {},
   "source": [
    "## 1. Import dataset and packages  <a name=\"import_dataset_and_packages\"></a>"
   ]
  },
  {
   "cell_type": "markdown",
   "metadata": {},
   "source": [
    "In this step, the dataset and relavant python packages are imported"
   ]
  },
  {
   "cell_type": "code",
   "execution_count": 3,
   "metadata": {},
   "outputs": [
    {
     "name": "stderr",
     "output_type": "stream",
     "text": [
      "'git' is not recognized as an internal or external command,\n",
      "operable program or batch file.\n"
     ]
    }
   ],
   "source": [
    "''' Packages'''\n",
    "\n",
    "!pip install corextopic\n",
    "!pip install joblib\n",
    "!pip install tabulate\n",
    "!pip install simple_colors\n",
    "!pip install pandas==1.5.3\n",
    "!pip install ipywidgets==7.7.1\n",
    "!pip install matplotlib==3.7.1\n",
    "!pip install scikit-learn==1.2.2\n",
    "\n",
    "import os, sys, importlib\n",
    "import pandas as pd\n",
    "import ipywidgets as widgets\n",
    "from ipywidgets import interact, interact_manual\n",
    "import pickle\n",
    "\n",
    "''' Source code'''\n",
    "\n",
    "user = \"tristandewildt\"\n",
    "repo = \"ValueMonitor_Prototype\"\n",
    "src_dir = \"code\"\n",
    "pyfile_1 = \"make_topic_model.py\"\n",
    "pyfile_2 = \"create_visualisation.py\"\n",
    "\n",
    "if os.path.isdir(repo):\n",
    "    !rm -rf {repo}\n",
    "\n",
    "!git clone https://github.com/{user}/{repo}.git\n",
    "\n",
    "path = f\"{repo}/{src_dir}\"\n",
    "if not path in sys.path:\n",
    "    sys.path.insert(1, path)\n",
    "\n",
    "make_topic_model = importlib.import_module(pyfile_1.rstrip(\".py\"))\n",
    "create_visualisation = importlib.import_module(pyfile_2.rstrip(\".py\"))\n",
    "\n",
    "from make_topic_model import *\n",
    "from create_visualisation import *\n",
    "\n",
    "''' Datasets'''\n",
    "\n",
    "!wget -q --show-progress --no-check-certificate 'https://docs.google.com/uc?export=download&id=12ZyryF8MbMYKuhIBEhUUvnvx43_cna56' -O dataset_ValueMonitor_prototype\n",
    "\n",
    "with open('dataset_ValueMonitor_prototype', \"rb\") as fh:\n",
    "    df = pickle.load(fh)"
   ]
  },
  {
   "cell_type": "markdown",
   "metadata": {
    "id": "EqtK4E3CSnIS"
   },
   "source": [
    "## 2. Creating the topic model <a name=\"creating_the_topic_model\"></a>"
   ]
  },
  {
   "cell_type": "markdown",
   "metadata": {
    "id": "BrZc5SEz70E6"
   },
   "source": [
    "In this step, we create a topic model in which some of the topics refer to values. The creation of topics that reflect values is done by means of so-called 'anchor' words. These words guide the algorithm in the creation of topics that reflect values.\n",
    "\n",
    "Anchor words are typically words that people use to refer to (the idea of) a value, such as synonyms. After adding some anchor words and running the model, the algorithm will automatically pick up other words that refer to the value. This is because the algorithm has observed that these words are often mentionned in the same documents as the anchor words.\n",
    "\n",
    "Finding the right anchor words is typically an iterative process, by observing the new topic model created by the algorithm. Some anchor words need to be added to ensure that some aspect of the value are not left behind (to be placed in *dict_anchor_words* in the cell below). Other words need to be removed since they do not refer to the value (in *list_rejected_words* in the cell below).\n",
    "\n",
    "We have prefilled an number of anchor words for each value."
   ]
  },
  {
   "cell_type": "code",
   "execution_count": 9,
   "metadata": {},
   "outputs": [],
   "source": [
    "dict_anchor_words = {\n",
    "\"Justice and Fairness\" : [\"justice\", \"fairness\", \"fair\", \"equality\", \"unfair\"],\n",
    "\"Privacy\" : [\"privacy\", \"personal data\", \"personal sphere\", \"data privacy\", \"privacy protection\", \"privacy concerns\", \n",
    "             \"confidentiality\"],\n",
    "\"Cyber-security\" : [\"cyber\", \"security\", \"cybersecurity\", \"malicious\", \"attacks\"],\n",
    "\"Environmnental Sustainability\" : [\"sustainability\", \"sustainable\", \"renewable\", \"durable\", \"durability\",\n",
    "                                  \"sustainable development\", \"environmental\"],\n",
    "\"Transparency\" : [\"transparency\", \"transparent\", \"transparently\", \"explainability\", \"interpretability\", \"explainable\",\n",
    "                 \"opaque\", \"interpretable\"],\n",
    "\"Accountability\" : [\"accountable\", \"accountability\", \"accountable\", \"traceability\", \"traceable\"],\n",
    "\"Autonomy\" : [\"autonomy\", \"self-determination\", \"autonomy human\", \"personal autonomy\"], \n",
    "\"Democracy\" : [\"democracy\", \"democratic\", \"human rights\", \"freedom speech\", \"equal representation\",\n",
    "              \"political\"], \n",
    "\"Reliability\" : [\"reliability\", \"reliable\", \"robustness\", \"robust\", \"predictability\"],\n",
    "\"Trust\" : [\"trust\", \"trustworthy\", \"trustworthiness\", \"confidence\", \"honesty\"],\n",
    "\"Well-being\" : [\"well being\", \"well-being\", \"wellbeing\", \"quality life\",\n",
    "               \"good life\", \"qol\", \"life satisfaction\", \"welfare\"],\n",
    "\"Inclusiveness\" : [\"inclusiveness\", \"inclusive\", \"inclusivity\", \"discrimination\", \"diversity\"]\n",
    "}\n",
    "\n",
    "list_rejected_words = [\"iop\", \"iop publishing\", \"publishing ltd\", \"publishing\", \"licence iop\",\n",
    "                       \"mdpi basel\", \"basel switzerland\", \"mdpi\", \"basel\", \"licensee mdpi\", \"licensee\", \"authors licensee\", \n",
    "                       \"switzerland\", \"authors\", \"publishing limited\", \"emerald\", \"emerald publishing\", ]\n",
    "\n",
    "list_anchor_words_other_topics = [\n",
    "        [\"internet of things\", \"iot\", \"internet things\", \"iot devices\", \"things iot\"],\n",
    "        [\"artificial intelligence\", \"ai\", \"artificial\"],\n",
    "]\n",
    "\n"
   ]
  },
  {
   "cell_type": "code",
   "execution_count": 12,
   "metadata": {
    "colab": {
     "base_uri": "https://localhost:8080/"
    },
    "executionInfo": {
     "elapsed": 203570,
     "status": "ok",
     "timestamp": 1626379422615,
     "user": {
      "displayName": "Tristan de Wildt",
      "photoUrl": "",
      "userId": "12635936161789443610"
     },
     "user_tz": -120
    },
    "id": "pB9tQrBBYxd3",
    "outputId": "6e4f793e-5fd9-4566-e79e-6a005584f5d3",
    "scrolled": true
   },
   "outputs": [
    {
     "name": "stdout",
     "output_type": "stream",
     "text": [
      "Topic #0 (Justice and Fairness): justice, fair, equality, fairness, unfair, justice department, criminal justice, unequal, status quo, quo\n",
      "Topic #1 (Privacy): privacy, data privacy, personal data, privacy concerns, privacy data, confidentiality, privacy protection, user privacy, privacy preserving, privacy security\n",
      "Topic #2 (Cyber-security): security, attacks, cyber, cybersecurity, malicious, national security, threats, hackers, cyber physical, secure\n",
      "Topic #3 (Environmnental Sustainability): environmental, sustainable, sustainability, angeles, los angeles, renewable, los, sustainable development, durable, renewable energy\n",
      "Topic #4 (Transparency): transparency, transparent, explainable, opaque, interpretable, explainable artificial, explainability, interpretability, black box, lack transparency\n",
      "Topic #5 (Accountability): accountability, accountable, texas, federal communications, communications commission, austin, fcc, mitchell, university texas, austin texas\n",
      "Topic #6 (Autonomy): decision making, autonomy, human beings, making, decision, beings, making process, ai decision, autonomous systems, intelligence decision\n",
      "Topic #7 (Democracy): political, democratic, democracy, elections, human rights, voting, politics, politicians, citizens, independent\n",
      "Topic #8 (Reliability): life, nothing, talk, predictable, eyes, door, guys, hope, bar, narrative\n",
      "Topic #9 (Trust): trust, confidence, trustworthy, trustworthiness, yorker, new yorker, honesty, charitable, public trust, multimillion\n",
      "Topic #10 (Well-being): welfare, well being, quality life, wellbeing, being, states economy, beijing trade, trolley, time need, skyscrapers\n",
      "Topic #11 (Inclusiveness): diversity, discrimination, inclusive, lack diversity, exclusion, buttigieg, inclusivity, diversity inclusion, mitch, mcconnell\n"
     ]
    }
   ],
   "source": [
    "number_of_topics_to_find = 100\n",
    "number_of_documents_in_analysis = 2000\n",
    "\n",
    "number_of_words_per_topic_to_show = 10\n",
    "number_of_words_per_topic = 10\n",
    "\n",
    "'''--------------------------------------------------------------------------''' \n",
    "\n",
    "model_and_vectorized_data = make_anchored_topic_model(df, number_of_topics_to_find, min(number_of_documents_in_analysis, len(df)), dict_anchor_words, list_anchor_words_other_topics, list_rejected_words)\n",
    "topics = report_topics(model_and_vectorized_data[0], dict_anchor_words,number_of_words_per_topic)\n",
    "df_with_topics = create_df_with_topics(df, model_and_vectorized_data[0], model_and_vectorized_data[1], number_of_topics_to_find)"
   ]
  },
  {
   "cell_type": "markdown",
   "metadata": {},
   "source": [
    "## 3. Verifying the topic model   <a name=\"verifying_the_topic_model\"></a>"
   ]
  },
  {
   "cell_type": "markdown",
   "metadata": {},
   "source": [
    "To verify whether topics sufficiently refer to values, the code hereunder can be used to evaluate whether documents indeed address the value in question."
   ]
  },
  {
   "cell_type": "code",
   "execution_count": 2,
   "metadata": {
    "scrolled": false
   },
   "outputs": [
    {
     "data": {
      "application/vnd.jupyter.widget-view+json": {
       "model_id": "a26006cf3fc04f7db819f1d698cc496f",
       "version_major": 2,
       "version_minor": 0
      },
      "text/plain": [
       "interactive(children=(Dropdown(description='selected_value', options=('Justice and Fairness', 'Privacy', 'Cybe…"
      ]
     },
     "metadata": {},
     "output_type": "display_data"
    },
    {
     "data": {
      "text/plain": [
       "<function __main__.plot_print_sample_articles_topic(selected_value, size_sample)>"
      ]
     },
     "execution_count": 2,
     "metadata": {},
     "output_type": "execute_result"
    }
   ],
   "source": [
    "def plot_print_sample_articles_topic(selected_value, size_sample):\n",
    "\n",
    "    show_extracts = True # True, False\n",
    "    show_full_text  = False # True, False\n",
    "\n",
    "    print_sample_articles_topic(df_with_topics, dict_anchor_words, topics, selected_value, size_sample, show_extracts, show_full_text)\n",
    "\n",
    "interact(plot_print_sample_articles_topic, selected_value=[*dict_anchor_words], size_sample =(5,50, 5))"
   ]
  },
  {
   "cell_type": "markdown",
   "metadata": {},
   "source": [
    "## 4. Gap assessment <a name=\"gap_assessment\"></a>"
   ]
  },
  {
   "cell_type": "markdown",
   "metadata": {},
   "source": [
    "It takes time before a good topic model is build in which topics adequately represent values. The code in the next cell can be used to import an existing topic model."
   ]
  },
  {
   "cell_type": "code",
   "execution_count": 3,
   "metadata": {},
   "outputs": [
    {
     "data": {
      "application/vnd.jupyter.widget-view+json": {
       "model_id": "a005468eb3794666adc1109e988a5d82",
       "version_major": 2,
       "version_minor": 0
      },
      "text/plain": [
       "interactive(children=(Dropdown(description='Selected_technology', options=('AI', 'IoT'), value='AI'), Output()…"
      ]
     },
     "metadata": {},
     "output_type": "display_data"
    },
    {
     "data": {
      "text/plain": [
       "<function __main__.plot_values_in_different_datasets(Selected_technology)>"
      ]
     },
     "execution_count": 3,
     "metadata": {},
     "output_type": "execute_result"
    }
   ],
   "source": [
    "def plot_values_in_different_datasets(Selected_technology):\n",
    "    values_in_different_datasets(df_with_topics, Selected_technology, dict_anchor_words)\n",
    "\n",
    "interact(plot_values_in_different_datasets, Selected_technology=[\"AI\", \"IoT\"])"
   ]
  },
  {
   "cell_type": "code",
   "execution_count": 5,
   "metadata": {},
   "outputs": [
    {
     "data": {
      "application/vnd.jupyter.widget-view+json": {
       "model_id": "7ac63b1a43d74555a9b7503e504e52c7",
       "version_major": 2,
       "version_minor": 0
      },
      "text/plain": [
       "interactive(children=(Dropdown(description='selected_technology', options=('AI', 'IoT'), value='AI'), Dropdown…"
      ]
     },
     "metadata": {},
     "output_type": "display_data"
    },
    {
     "data": {
      "text/plain": [
       "<function __main__.plot_print_sample_articles_topic(selected_technology, selected_value, selected_dataset, size_sample)>"
      ]
     },
     "execution_count": 5,
     "metadata": {},
     "output_type": "execute_result"
    }
   ],
   "source": [
    "def plot_print_sample_articles_topic(selected_technology, selected_value, selected_dataset, size_sample):\n",
    "    show_extracts = True # True, False\n",
    "    show_full_text  = False # True, False\n",
    "    df_with_topics_selected_technology = df_with_topics[df_with_topics[selected_technology] == True]\n",
    "    df_with_topics_selected_technology_dataset = df_with_topics_selected_technology[df_with_topics_selected_technology['dataset'] == selected_dataset]\n",
    "    print_sample_articles_topic(df_with_topics_selected_technology_dataset, dict_anchor_words, topics, selected_value, size_sample, show_extracts, show_full_text)\n",
    "\n",
    "interact(plot_print_sample_articles_topic, selected_value=[*dict_anchor_words], selected_dataset = [\"TECH\", \"NEWS\", \"ETHICS\", ], size_sample =(5,50, 5), selected_technology=[\"AI\", \"IoT\"])"
   ]
  },
  {
   "cell_type": "markdown",
   "metadata": {},
   "source": [
    "## 5. Impact assessment <a name=\"impact_assessment\"></a>"
   ]
  },
  {
   "cell_type": "markdown",
   "metadata": {},
   "source": [
    "The occurence of values can be traced over time."
   ]
  },
  {
   "cell_type": "code",
   "execution_count": 7,
   "metadata": {},
   "outputs": [
    {
     "data": {
      "application/vnd.jupyter.widget-view+json": {
       "model_id": "3e6eec6d769648abb9d14947a79e4800",
       "version_major": 2,
       "version_minor": 0
      },
      "text/plain": [
       "interactive(children=(Dropdown(description='selected_technology', options=('AI', 'IoT'), value='AI'), Dropdown…"
      ]
     },
     "metadata": {},
     "output_type": "display_data"
    },
    {
     "data": {
      "text/plain": [
       "<function __main__.plot_create_vis_values_over_time(selected_technology, selected_dataset, resampling, smoothing, max_value_y)>"
      ]
     },
     "execution_count": 7,
     "metadata": {},
     "output_type": "execute_result"
    }
   ],
   "source": [
    "def plot_create_vis_values_over_time (selected_technology, selected_dataset, resampling, smoothing, max_value_y):\n",
    "\n",
    "    T0 = \"1980-01-01\" #YYYY-MM-DD\n",
    "    T1 = \"2023-01-01\" #YYYY-MM-DD\n",
    "\n",
    "    values_to_include_in_visualisation = []\n",
    "    \n",
    "    resampling_dict = {\"Year\": \"Y\", \"Month\": \"M\", \"Day\": \"D\"}\n",
    "    resampling = resampling_dict[resampling]\n",
    "    df_with_topics_short = df_with_topics.loc[(df_with_topics['date'] >= dateutil.parser.parse(T0)) & (df_with_topics['date'] <= dateutil.parser.parse(T1))]\n",
    "    df_with_topics_selected_technology = df_with_topics_short[df_with_topics_short[selected_technology] == True]\n",
    "    df_with_topics_selected_technology_dataset = df_with_topics_selected_technology[df_with_topics_selected_technology['dataset'] == selected_dataset]\n",
    "    create_vis_values_over_time(df_with_topics_selected_technology_dataset, dict_anchor_words, resampling, values_to_include_in_visualisation, smoothing, max_value_y)  \n",
    "    \n",
    "    \n",
    "\n",
    "interact(plot_create_vis_values_over_time, selected_technology=[\"AI\", \"IoT\"], selected_dataset = [\"TECH\", \"NEWS\", \"ETHICS\",], smoothing = (0.25,3, 0.25), max_value_y = (5,100, 5), resampling = [\"Year\", \"Month\", \"Day\"])"
   ]
  },
  {
   "cell_type": "code",
   "execution_count": 8,
   "metadata": {},
   "outputs": [
    {
     "data": {
      "application/vnd.jupyter.widget-view+json": {
       "model_id": "28ec49412f4f4656addf85367a719d55",
       "version_major": 2,
       "version_minor": 0
      },
      "text/plain": [
       "interactive(children=(Dropdown(description='selected_value', options=('Justice and Fairness', 'Privacy', 'Cybe…"
      ]
     },
     "metadata": {},
     "output_type": "display_data"
    },
    {
     "data": {
      "text/plain": [
       "<function __main__.plot_print_sample_articles_topic(selected_value, size_sample)>"
      ]
     },
     "execution_count": 8,
     "metadata": {},
     "output_type": "execute_result"
    }
   ],
   "source": [
    "def plot_print_sample_articles_topic(selected_value, size_sample):\n",
    "    T0 = \"1960-01-01\" #YYYY-MM-DD\n",
    "    T1 = \"2023-01-01\" #YYYY-MM-DD\n",
    "\n",
    "    show_extracts = True # True, False\n",
    "    show_full_text  = False # True, False\n",
    "\n",
    "    df_with_topics_short = df_with_topics.loc[(df_with_topics['date'] >= dateutil.parser.parse(T0)) & (df_with_topics['date'] <= dateutil.parser.parse(T1))]\n",
    "    print_sample_articles_topic(df_with_topics_short, dict_anchor_words, topics, selected_value, size_sample, show_extracts, show_full_text)\n",
    "\n",
    "interact(plot_print_sample_articles_topic, selected_value=[*dict_anchor_words], size_sample =(5,50, 5))"
   ]
  },
  {
   "cell_type": "markdown",
   "metadata": {},
   "source": [
    "## 6. Values in different societal groups <a name=\"values_in_different_societal_groups\"></a>"
   ]
  },
  {
   "cell_type": "markdown",
   "metadata": {},
   "source": [
    "ValueMonitor can be used to evaluate which values different societal groups tend to discuss."
   ]
  },
  {
   "cell_type": "code",
   "execution_count": 9,
   "metadata": {},
   "outputs": [
    {
     "data": {
      "application/vnd.jupyter.widget-view+json": {
       "model_id": "35d9d80f4c9541fb807eb79a2f963ef9",
       "version_major": 2,
       "version_minor": 0
      },
      "text/plain": [
       "interactive(children=(Dropdown(description='selected_dataset', options=('NEWS', 'ETHICS', 'TECH'), value='NEWS…"
      ]
     },
     "metadata": {},
     "output_type": "display_data"
    },
    {
     "data": {
      "text/plain": [
       "<function __main__.plot_values_in_different_groups(selected_dataset)>"
      ]
     },
     "execution_count": 9,
     "metadata": {},
     "output_type": "execute_result"
    }
   ],
   "source": [
    "def plot_values_in_different_groups(selected_dataset):\n",
    "    values_in_different_groups(df_with_topics, dict_anchor_words, selected_dataset)\n",
    "\n",
    "interact(plot_values_in_different_groups, selected_dataset = ['NEWS', 'ETHICS', 'TECH'])"
   ]
  },
  {
   "cell_type": "code",
   "execution_count": 10,
   "metadata": {},
   "outputs": [
    {
     "data": {
      "application/vnd.jupyter.widget-view+json": {
       "model_id": "ff98d363eb8247549564468f732a0d30",
       "version_major": 2,
       "version_minor": 0
      },
      "text/plain": [
       "interactive(children=(Dropdown(description='selected_value', options=('Justice and Fairness', 'Privacy', 'Cybe…"
      ]
     },
     "metadata": {},
     "output_type": "display_data"
    },
    {
     "data": {
      "text/plain": [
       "<function __main__.plot_print_sample_articles_topic(selected_value, selected_dataset, size_sample)>"
      ]
     },
     "execution_count": 10,
     "metadata": {},
     "output_type": "execute_result"
    }
   ],
   "source": [
    "def plot_print_sample_articles_topic(selected_value, selected_dataset, size_sample):\n",
    "\n",
    "    show_extracts = True # True, False\n",
    "    show_full_text  = False # True, False\n",
    "\n",
    "    '''--------------------------------------------------------------------------''' \n",
    "\n",
    "    df_with_topics_selected_technology_dataset = df_with_topics[df_with_topics['dataset'] == selected_dataset]\n",
    "    print_sample_articles_topic(df_with_topics_selected_technology_dataset, dict_anchor_words, topics, selected_value, size_sample, show_extracts, show_full_text)\n",
    "interact(plot_print_sample_articles_topic, selected_value=[*dict_anchor_words], selected_dataset = [\"TECH\", \"NEWS\", \"ETHICS\", ], size_sample =(5,50, 5))"
   ]
  },
  {
   "cell_type": "code",
   "execution_count": null,
   "metadata": {},
   "outputs": [],
   "source": []
  }
 ],
 "metadata": {
  "colab": {
   "collapsed_sections": [
    "BNW2-FjTSaaB",
    "iS91FXNNSmOC",
    "813ejCyOE0iT",
    "EqtK4E3CSnIS",
    "2LlfMeZE7qnp",
    "mgcmijrjXKyh",
    "DbubP0kCVxRf",
    "XZKsT5NR8_xj",
    "qO6wh9EIKu5R",
    "6OuCocWjtKF7",
    "NMD3L0CbQvnt",
    "KUhDIihrA5Tf",
    "n64SVa7SAxDZ",
    "WKtNRP-jBJaI",
    "naoD2x4BBSoI",
    "3m0at_38BNiY",
    "CbX0jG7iBx3f",
    "BDz_NMSQCPkf",
    "4w9uP65Iseb3",
    "a8OYxqoe3xxd",
    "Xx3ok56aJnEM",
    "5F9qr9s72Byr",
    "2A_zQPsW5m_R",
    "cWpwgZcTrIEC"
   ],
   "name": "Topic_modelling_for_value_change.ipynb",
   "provenance": []
  },
  "kernelspec": {
   "display_name": "Python 3",
   "language": "python",
   "name": "python3"
  },
  "language_info": {
   "codemirror_mode": {
    "name": "ipython",
    "version": 3
   },
   "file_extension": ".py",
   "mimetype": "text/x-python",
   "name": "python",
   "nbconvert_exporter": "python",
   "pygments_lexer": "ipython3",
   "version": "3.8.8"
  }
 },
 "nbformat": 4,
 "nbformat_minor": 4
}
